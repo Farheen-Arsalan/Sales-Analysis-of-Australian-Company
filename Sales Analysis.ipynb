{
 "cells": [
  {
   "cell_type": "markdown",
   "id": "900016c6",
   "metadata": {},
   "source": [
    "# Importing Libraries:"
   ]
  },
  {
   "cell_type": "code",
   "execution_count": 162,
   "id": "c6ea1200",
   "metadata": {},
   "outputs": [],
   "source": [
    "import numpy as np\n",
    "import pandas as pd\n",
    "import seaborn as sns\n",
    "import matplotlib.pyplot as plt\n",
    "from sklearn.preprocessing import MinMaxScaler"
   ]
  },
  {
   "cell_type": "markdown",
   "id": "7dac8355",
   "metadata": {},
   "source": [
    "# Table of content:"
   ]
  },
  {
   "cell_type": "markdown",
   "id": "756e43e7",
   "metadata": {},
   "source": [
    "[Data Cleaning](#Data-Cleaning:)\n",
    "\n",
    "[Explatory Data Analysis](#Explatory-Data-Analysis:)\n",
    "\n",
    "[Normalization](#Normalization:)\n",
    "\n",
    "[Data Analysis](#Data-Analysis:)\n",
    "\n",
    "[Data Visualization](#Data-Visualization:)"
   ]
  },
  {
   "cell_type": "markdown",
   "id": "40de1d8a",
   "metadata": {},
   "source": [
    "# Load Dataset:"
   ]
  },
  {
   "cell_type": "code",
   "execution_count": 164,
   "id": "2730cf0e",
   "metadata": {},
   "outputs": [],
   "source": [
    "data = pd.read_csv(\"/Users/Arsalan/Downloads/AusApparalSales4thQrt2020.csv\")"
   ]
  },
  {
   "cell_type": "markdown",
   "id": "456e0bbc",
   "metadata": {},
   "source": [
    "# Explatory Data Analysis:"
   ]
  },
  {
   "cell_type": "code",
   "execution_count": 165,
   "id": "fcde98da",
   "metadata": {},
   "outputs": [
    {
     "data": {
      "text/html": [
       "<div>\n",
       "<style scoped>\n",
       "    .dataframe tbody tr th:only-of-type {\n",
       "        vertical-align: middle;\n",
       "    }\n",
       "\n",
       "    .dataframe tbody tr th {\n",
       "        vertical-align: top;\n",
       "    }\n",
       "\n",
       "    .dataframe thead th {\n",
       "        text-align: right;\n",
       "    }\n",
       "</style>\n",
       "<table border=\"1\" class=\"dataframe\">\n",
       "  <thead>\n",
       "    <tr style=\"text-align: right;\">\n",
       "      <th></th>\n",
       "      <th>Date</th>\n",
       "      <th>Time</th>\n",
       "      <th>State</th>\n",
       "      <th>Group</th>\n",
       "      <th>Unit</th>\n",
       "      <th>Sales</th>\n",
       "    </tr>\n",
       "  </thead>\n",
       "  <tbody>\n",
       "    <tr>\n",
       "      <th>0</th>\n",
       "      <td>1-Oct-2020</td>\n",
       "      <td>Morning</td>\n",
       "      <td>WA</td>\n",
       "      <td>Kids</td>\n",
       "      <td>8</td>\n",
       "      <td>20000</td>\n",
       "    </tr>\n",
       "    <tr>\n",
       "      <th>1</th>\n",
       "      <td>1-Oct-2020</td>\n",
       "      <td>Morning</td>\n",
       "      <td>WA</td>\n",
       "      <td>Men</td>\n",
       "      <td>8</td>\n",
       "      <td>20000</td>\n",
       "    </tr>\n",
       "    <tr>\n",
       "      <th>2</th>\n",
       "      <td>1-Oct-2020</td>\n",
       "      <td>Morning</td>\n",
       "      <td>WA</td>\n",
       "      <td>Women</td>\n",
       "      <td>4</td>\n",
       "      <td>10000</td>\n",
       "    </tr>\n",
       "    <tr>\n",
       "      <th>3</th>\n",
       "      <td>1-Oct-2020</td>\n",
       "      <td>Morning</td>\n",
       "      <td>WA</td>\n",
       "      <td>Seniors</td>\n",
       "      <td>15</td>\n",
       "      <td>37500</td>\n",
       "    </tr>\n",
       "    <tr>\n",
       "      <th>4</th>\n",
       "      <td>1-Oct-2020</td>\n",
       "      <td>Afternoon</td>\n",
       "      <td>WA</td>\n",
       "      <td>Kids</td>\n",
       "      <td>3</td>\n",
       "      <td>7500</td>\n",
       "    </tr>\n",
       "  </tbody>\n",
       "</table>\n",
       "</div>"
      ],
      "text/plain": [
       "         Date        Time State     Group  Unit  Sales\n",
       "0  1-Oct-2020     Morning    WA      Kids     8  20000\n",
       "1  1-Oct-2020     Morning    WA       Men     8  20000\n",
       "2  1-Oct-2020     Morning    WA     Women     4  10000\n",
       "3  1-Oct-2020     Morning    WA   Seniors    15  37500\n",
       "4  1-Oct-2020   Afternoon    WA      Kids     3   7500"
      ]
     },
     "execution_count": 165,
     "metadata": {},
     "output_type": "execute_result"
    }
   ],
   "source": [
    "#view first 5 rows\n",
    "data.head()"
   ]
  },
  {
   "cell_type": "markdown",
   "id": "16ddcb45",
   "metadata": {},
   "source": [
    "# Column Information:"
   ]
  },
  {
   "cell_type": "code",
   "execution_count": 166,
   "id": "47e31686",
   "metadata": {},
   "outputs": [
    {
     "data": {
      "text/plain": [
       "Index(['Date', 'Time', 'State', 'Group', 'Unit', 'Sales'], dtype='object')"
      ]
     },
     "execution_count": 166,
     "metadata": {},
     "output_type": "execute_result"
    }
   ],
   "source": [
    "#view columns name\n",
    "data.columns"
   ]
  },
  {
   "cell_type": "code",
   "execution_count": 168,
   "id": "1006e77e",
   "metadata": {},
   "outputs": [
    {
     "data": {
      "text/plain": [
       "(7560, 6)"
      ]
     },
     "execution_count": 168,
     "metadata": {},
     "output_type": "execute_result"
    }
   ],
   "source": [
    "#view dimentions of dataset\n",
    "data.shape"
   ]
  },
  {
   "cell_type": "code",
   "execution_count": 169,
   "id": "f4e55544",
   "metadata": {},
   "outputs": [
    {
     "name": "stdout",
     "output_type": "stream",
     "text": [
      "<class 'pandas.core.frame.DataFrame'>\n",
      "RangeIndex: 7560 entries, 0 to 7559\n",
      "Data columns (total 6 columns):\n",
      " #   Column  Non-Null Count  Dtype \n",
      "---  ------  --------------  ----- \n",
      " 0   Date    7560 non-null   object\n",
      " 1   Time    7560 non-null   object\n",
      " 2   State   7560 non-null   object\n",
      " 3   Group   7560 non-null   object\n",
      " 4   Unit    7560 non-null   int64 \n",
      " 5   Sales   7560 non-null   int64 \n",
      "dtypes: int64(2), object(4)\n",
      "memory usage: 354.5+ KB\n"
     ]
    }
   ],
   "source": [
    "#Checking For datatypes of the attributes and counts non_null\n",
    "data.info()"
   ]
  },
  {
   "cell_type": "markdown",
   "id": "6110dce1",
   "metadata": {},
   "source": [
    "**Data has categorical values , we have to convert them in numeric.**"
   ]
  },
  {
   "cell_type": "code",
   "execution_count": 170,
   "id": "772904df",
   "metadata": {},
   "outputs": [
    {
     "data": {
      "text/plain": [
       "Date     object\n",
       "Time     object\n",
       "State    object\n",
       "Group    object\n",
       "Unit      int64\n",
       "Sales     int64\n",
       "dtype: object"
      ]
     },
     "execution_count": 170,
     "metadata": {},
     "output_type": "execute_result"
    }
   ],
   "source": [
    "#veiw data types\n",
    "data.dtypes"
   ]
  },
  {
   "cell_type": "markdown",
   "id": "46dc6087",
   "metadata": {},
   "source": [
    "# Data Cleaning:"
   ]
  },
  {
   "cell_type": "code",
   "execution_count": 171,
   "id": "90563858",
   "metadata": {},
   "outputs": [
    {
     "data": {
      "text/plain": [
       "Date     0\n",
       "Time     0\n",
       "State    0\n",
       "Group    0\n",
       "Unit     0\n",
       "Sales    0\n",
       "dtype: int64"
      ]
     },
     "execution_count": 171,
     "metadata": {},
     "output_type": "execute_result"
    }
   ],
   "source": [
    "#check for missing value\n",
    "data.isna().sum()"
   ]
  },
  {
   "cell_type": "code",
   "execution_count": 172,
   "id": "6d266232",
   "metadata": {},
   "outputs": [
    {
     "data": {
      "text/plain": [
       "Date     7560\n",
       "Time     7560\n",
       "State    7560\n",
       "Group    7560\n",
       "Unit     7560\n",
       "Sales    7560\n",
       "dtype: int64"
      ]
     },
     "execution_count": 172,
     "metadata": {},
     "output_type": "execute_result"
    }
   ],
   "source": [
    "data.notna().sum()"
   ]
  },
  {
   "cell_type": "markdown",
   "id": "fb8dd2ab",
   "metadata": {},
   "source": [
    "**There isn't any null value in dataset**"
   ]
  },
  {
   "cell_type": "markdown",
   "id": "1a9127d8",
   "metadata": {},
   "source": [
    "**Date column convert into year, month,week,day,Quarter**"
   ]
  },
  {
   "cell_type": "code",
   "execution_count": 173,
   "id": "2d61a09e",
   "metadata": {},
   "outputs": [
    {
     "data": {
      "text/html": [
       "<div>\n",
       "<style scoped>\n",
       "    .dataframe tbody tr th:only-of-type {\n",
       "        vertical-align: middle;\n",
       "    }\n",
       "\n",
       "    .dataframe tbody tr th {\n",
       "        vertical-align: top;\n",
       "    }\n",
       "\n",
       "    .dataframe thead th {\n",
       "        text-align: right;\n",
       "    }\n",
       "</style>\n",
       "<table border=\"1\" class=\"dataframe\">\n",
       "  <thead>\n",
       "    <tr style=\"text-align: right;\">\n",
       "      <th></th>\n",
       "      <th>Date</th>\n",
       "      <th>Time</th>\n",
       "      <th>State</th>\n",
       "      <th>Group</th>\n",
       "      <th>Unit</th>\n",
       "      <th>Sales</th>\n",
       "      <th>Year</th>\n",
       "      <th>Month</th>\n",
       "      <th>Week</th>\n",
       "      <th>Quarter</th>\n",
       "      <th>Day</th>\n",
       "    </tr>\n",
       "  </thead>\n",
       "  <tbody>\n",
       "    <tr>\n",
       "      <th>0</th>\n",
       "      <td>2020-10-01</td>\n",
       "      <td>Morning</td>\n",
       "      <td>WA</td>\n",
       "      <td>Kids</td>\n",
       "      <td>8</td>\n",
       "      <td>20000</td>\n",
       "      <td>2020</td>\n",
       "      <td>10</td>\n",
       "      <td>40</td>\n",
       "      <td>4</td>\n",
       "      <td>1</td>\n",
       "    </tr>\n",
       "    <tr>\n",
       "      <th>1</th>\n",
       "      <td>2020-10-01</td>\n",
       "      <td>Morning</td>\n",
       "      <td>WA</td>\n",
       "      <td>Men</td>\n",
       "      <td>8</td>\n",
       "      <td>20000</td>\n",
       "      <td>2020</td>\n",
       "      <td>10</td>\n",
       "      <td>40</td>\n",
       "      <td>4</td>\n",
       "      <td>1</td>\n",
       "    </tr>\n",
       "    <tr>\n",
       "      <th>2</th>\n",
       "      <td>2020-10-01</td>\n",
       "      <td>Morning</td>\n",
       "      <td>WA</td>\n",
       "      <td>Women</td>\n",
       "      <td>4</td>\n",
       "      <td>10000</td>\n",
       "      <td>2020</td>\n",
       "      <td>10</td>\n",
       "      <td>40</td>\n",
       "      <td>4</td>\n",
       "      <td>1</td>\n",
       "    </tr>\n",
       "    <tr>\n",
       "      <th>3</th>\n",
       "      <td>2020-10-01</td>\n",
       "      <td>Morning</td>\n",
       "      <td>WA</td>\n",
       "      <td>Seniors</td>\n",
       "      <td>15</td>\n",
       "      <td>37500</td>\n",
       "      <td>2020</td>\n",
       "      <td>10</td>\n",
       "      <td>40</td>\n",
       "      <td>4</td>\n",
       "      <td>1</td>\n",
       "    </tr>\n",
       "    <tr>\n",
       "      <th>4</th>\n",
       "      <td>2020-10-01</td>\n",
       "      <td>Afternoon</td>\n",
       "      <td>WA</td>\n",
       "      <td>Kids</td>\n",
       "      <td>3</td>\n",
       "      <td>7500</td>\n",
       "      <td>2020</td>\n",
       "      <td>10</td>\n",
       "      <td>40</td>\n",
       "      <td>4</td>\n",
       "      <td>1</td>\n",
       "    </tr>\n",
       "    <tr>\n",
       "      <th>...</th>\n",
       "      <td>...</td>\n",
       "      <td>...</td>\n",
       "      <td>...</td>\n",
       "      <td>...</td>\n",
       "      <td>...</td>\n",
       "      <td>...</td>\n",
       "      <td>...</td>\n",
       "      <td>...</td>\n",
       "      <td>...</td>\n",
       "      <td>...</td>\n",
       "      <td>...</td>\n",
       "    </tr>\n",
       "    <tr>\n",
       "      <th>7555</th>\n",
       "      <td>2020-12-30</td>\n",
       "      <td>Afternoon</td>\n",
       "      <td>TAS</td>\n",
       "      <td>Seniors</td>\n",
       "      <td>14</td>\n",
       "      <td>35000</td>\n",
       "      <td>2020</td>\n",
       "      <td>12</td>\n",
       "      <td>53</td>\n",
       "      <td>4</td>\n",
       "      <td>30</td>\n",
       "    </tr>\n",
       "    <tr>\n",
       "      <th>7556</th>\n",
       "      <td>2020-12-30</td>\n",
       "      <td>Evening</td>\n",
       "      <td>TAS</td>\n",
       "      <td>Kids</td>\n",
       "      <td>15</td>\n",
       "      <td>37500</td>\n",
       "      <td>2020</td>\n",
       "      <td>12</td>\n",
       "      <td>53</td>\n",
       "      <td>4</td>\n",
       "      <td>30</td>\n",
       "    </tr>\n",
       "    <tr>\n",
       "      <th>7557</th>\n",
       "      <td>2020-12-30</td>\n",
       "      <td>Evening</td>\n",
       "      <td>TAS</td>\n",
       "      <td>Men</td>\n",
       "      <td>15</td>\n",
       "      <td>37500</td>\n",
       "      <td>2020</td>\n",
       "      <td>12</td>\n",
       "      <td>53</td>\n",
       "      <td>4</td>\n",
       "      <td>30</td>\n",
       "    </tr>\n",
       "    <tr>\n",
       "      <th>7558</th>\n",
       "      <td>2020-12-30</td>\n",
       "      <td>Evening</td>\n",
       "      <td>TAS</td>\n",
       "      <td>Women</td>\n",
       "      <td>11</td>\n",
       "      <td>27500</td>\n",
       "      <td>2020</td>\n",
       "      <td>12</td>\n",
       "      <td>53</td>\n",
       "      <td>4</td>\n",
       "      <td>30</td>\n",
       "    </tr>\n",
       "    <tr>\n",
       "      <th>7559</th>\n",
       "      <td>2020-12-30</td>\n",
       "      <td>Evening</td>\n",
       "      <td>TAS</td>\n",
       "      <td>Seniors</td>\n",
       "      <td>13</td>\n",
       "      <td>32500</td>\n",
       "      <td>2020</td>\n",
       "      <td>12</td>\n",
       "      <td>53</td>\n",
       "      <td>4</td>\n",
       "      <td>30</td>\n",
       "    </tr>\n",
       "  </tbody>\n",
       "</table>\n",
       "<p>7560 rows × 11 columns</p>\n",
       "</div>"
      ],
      "text/plain": [
       "           Date        Time State     Group  Unit  Sales  Year  Month  Week  \\\n",
       "0    2020-10-01     Morning    WA      Kids     8  20000  2020     10    40   \n",
       "1    2020-10-01     Morning    WA       Men     8  20000  2020     10    40   \n",
       "2    2020-10-01     Morning    WA     Women     4  10000  2020     10    40   \n",
       "3    2020-10-01     Morning    WA   Seniors    15  37500  2020     10    40   \n",
       "4    2020-10-01   Afternoon    WA      Kids     3   7500  2020     10    40   \n",
       "...         ...         ...   ...       ...   ...    ...   ...    ...   ...   \n",
       "7555 2020-12-30   Afternoon   TAS   Seniors    14  35000  2020     12    53   \n",
       "7556 2020-12-30     Evening   TAS      Kids    15  37500  2020     12    53   \n",
       "7557 2020-12-30     Evening   TAS       Men    15  37500  2020     12    53   \n",
       "7558 2020-12-30     Evening   TAS     Women    11  27500  2020     12    53   \n",
       "7559 2020-12-30     Evening   TAS   Seniors    13  32500  2020     12    53   \n",
       "\n",
       "      Quarter  Day  \n",
       "0           4    1  \n",
       "1           4    1  \n",
       "2           4    1  \n",
       "3           4    1  \n",
       "4           4    1  \n",
       "...       ...  ...  \n",
       "7555        4   30  \n",
       "7556        4   30  \n",
       "7557        4   30  \n",
       "7558        4   30  \n",
       "7559        4   30  \n",
       "\n",
       "[7560 rows x 11 columns]"
      ]
     },
     "execution_count": 173,
     "metadata": {},
     "output_type": "execute_result"
    }
   ],
   "source": [
    "data['Date']= pd.to_datetime(data['Date'])\n",
    "data['Year']= data['Date'].dt.year\n",
    "data['Month']= data['Date'].dt.month\n",
    "data['Week']= data['Date'].dt.isocalendar().week\n",
    "data['Quarter']=data['Date'].dt.quarter\n",
    "data['Day']=data['Date'].dt.day\n",
    "\n",
    "data"
   ]
  },
  {
   "cell_type": "markdown",
   "id": "95f9c716",
   "metadata": {},
   "source": [
    "**We have to convert categorical values into int**"
   ]
  },
  {
   "cell_type": "markdown",
   "id": "e9557ccc",
   "metadata": {},
   "source": [
    "**Note**\n",
    "\n",
    " 1: It shows True\n",
    " \n",
    " 0: It shows False"
   ]
  },
  {
   "cell_type": "code",
   "execution_count": 177,
   "id": "508ccdb1",
   "metadata": {},
   "outputs": [],
   "source": [
    "df = pd.get_dummies(data)"
   ]
  },
  {
   "cell_type": "code",
   "execution_count": 178,
   "id": "2c2c94c2",
   "metadata": {},
   "outputs": [
    {
     "data": {
      "text/html": [
       "<div>\n",
       "<style scoped>\n",
       "    .dataframe tbody tr th:only-of-type {\n",
       "        vertical-align: middle;\n",
       "    }\n",
       "\n",
       "    .dataframe tbody tr th {\n",
       "        vertical-align: top;\n",
       "    }\n",
       "\n",
       "    .dataframe thead th {\n",
       "        text-align: right;\n",
       "    }\n",
       "</style>\n",
       "<table border=\"1\" class=\"dataframe\">\n",
       "  <thead>\n",
       "    <tr style=\"text-align: right;\">\n",
       "      <th></th>\n",
       "      <th>Date</th>\n",
       "      <th>Unit</th>\n",
       "      <th>Sales</th>\n",
       "      <th>Year</th>\n",
       "      <th>Month</th>\n",
       "      <th>Week</th>\n",
       "      <th>Quarter</th>\n",
       "      <th>Day</th>\n",
       "      <th>Time_ Afternoon</th>\n",
       "      <th>Time_ Evening</th>\n",
       "      <th>...</th>\n",
       "      <th>State_ NT</th>\n",
       "      <th>State_ QLD</th>\n",
       "      <th>State_ SA</th>\n",
       "      <th>State_ TAS</th>\n",
       "      <th>State_ VIC</th>\n",
       "      <th>State_ WA</th>\n",
       "      <th>Group_ Kids</th>\n",
       "      <th>Group_ Men</th>\n",
       "      <th>Group_ Seniors</th>\n",
       "      <th>Group_ Women</th>\n",
       "    </tr>\n",
       "  </thead>\n",
       "  <tbody>\n",
       "    <tr>\n",
       "      <th>0</th>\n",
       "      <td>2020-10-01</td>\n",
       "      <td>8</td>\n",
       "      <td>20000</td>\n",
       "      <td>2020</td>\n",
       "      <td>10</td>\n",
       "      <td>40</td>\n",
       "      <td>4</td>\n",
       "      <td>1</td>\n",
       "      <td>0</td>\n",
       "      <td>0</td>\n",
       "      <td>...</td>\n",
       "      <td>0</td>\n",
       "      <td>0</td>\n",
       "      <td>0</td>\n",
       "      <td>0</td>\n",
       "      <td>0</td>\n",
       "      <td>1</td>\n",
       "      <td>1</td>\n",
       "      <td>0</td>\n",
       "      <td>0</td>\n",
       "      <td>0</td>\n",
       "    </tr>\n",
       "    <tr>\n",
       "      <th>1</th>\n",
       "      <td>2020-10-01</td>\n",
       "      <td>8</td>\n",
       "      <td>20000</td>\n",
       "      <td>2020</td>\n",
       "      <td>10</td>\n",
       "      <td>40</td>\n",
       "      <td>4</td>\n",
       "      <td>1</td>\n",
       "      <td>0</td>\n",
       "      <td>0</td>\n",
       "      <td>...</td>\n",
       "      <td>0</td>\n",
       "      <td>0</td>\n",
       "      <td>0</td>\n",
       "      <td>0</td>\n",
       "      <td>0</td>\n",
       "      <td>1</td>\n",
       "      <td>0</td>\n",
       "      <td>1</td>\n",
       "      <td>0</td>\n",
       "      <td>0</td>\n",
       "    </tr>\n",
       "    <tr>\n",
       "      <th>2</th>\n",
       "      <td>2020-10-01</td>\n",
       "      <td>4</td>\n",
       "      <td>10000</td>\n",
       "      <td>2020</td>\n",
       "      <td>10</td>\n",
       "      <td>40</td>\n",
       "      <td>4</td>\n",
       "      <td>1</td>\n",
       "      <td>0</td>\n",
       "      <td>0</td>\n",
       "      <td>...</td>\n",
       "      <td>0</td>\n",
       "      <td>0</td>\n",
       "      <td>0</td>\n",
       "      <td>0</td>\n",
       "      <td>0</td>\n",
       "      <td>1</td>\n",
       "      <td>0</td>\n",
       "      <td>0</td>\n",
       "      <td>0</td>\n",
       "      <td>1</td>\n",
       "    </tr>\n",
       "    <tr>\n",
       "      <th>3</th>\n",
       "      <td>2020-10-01</td>\n",
       "      <td>15</td>\n",
       "      <td>37500</td>\n",
       "      <td>2020</td>\n",
       "      <td>10</td>\n",
       "      <td>40</td>\n",
       "      <td>4</td>\n",
       "      <td>1</td>\n",
       "      <td>0</td>\n",
       "      <td>0</td>\n",
       "      <td>...</td>\n",
       "      <td>0</td>\n",
       "      <td>0</td>\n",
       "      <td>0</td>\n",
       "      <td>0</td>\n",
       "      <td>0</td>\n",
       "      <td>1</td>\n",
       "      <td>0</td>\n",
       "      <td>0</td>\n",
       "      <td>1</td>\n",
       "      <td>0</td>\n",
       "    </tr>\n",
       "    <tr>\n",
       "      <th>4</th>\n",
       "      <td>2020-10-01</td>\n",
       "      <td>3</td>\n",
       "      <td>7500</td>\n",
       "      <td>2020</td>\n",
       "      <td>10</td>\n",
       "      <td>40</td>\n",
       "      <td>4</td>\n",
       "      <td>1</td>\n",
       "      <td>1</td>\n",
       "      <td>0</td>\n",
       "      <td>...</td>\n",
       "      <td>0</td>\n",
       "      <td>0</td>\n",
       "      <td>0</td>\n",
       "      <td>0</td>\n",
       "      <td>0</td>\n",
       "      <td>1</td>\n",
       "      <td>1</td>\n",
       "      <td>0</td>\n",
       "      <td>0</td>\n",
       "      <td>0</td>\n",
       "    </tr>\n",
       "  </tbody>\n",
       "</table>\n",
       "<p>5 rows × 22 columns</p>\n",
       "</div>"
      ],
      "text/plain": [
       "        Date  Unit  Sales  Year  Month  Week  Quarter  Day  Time_ Afternoon  \\\n",
       "0 2020-10-01     8  20000  2020     10    40        4    1                0   \n",
       "1 2020-10-01     8  20000  2020     10    40        4    1                0   \n",
       "2 2020-10-01     4  10000  2020     10    40        4    1                0   \n",
       "3 2020-10-01    15  37500  2020     10    40        4    1                0   \n",
       "4 2020-10-01     3   7500  2020     10    40        4    1                1   \n",
       "\n",
       "   Time_ Evening  ...  State_ NT  State_ QLD  State_ SA  State_ TAS  \\\n",
       "0              0  ...          0           0          0           0   \n",
       "1              0  ...          0           0          0           0   \n",
       "2              0  ...          0           0          0           0   \n",
       "3              0  ...          0           0          0           0   \n",
       "4              0  ...          0           0          0           0   \n",
       "\n",
       "   State_ VIC  State_ WA  Group_ Kids  Group_ Men  Group_ Seniors  \\\n",
       "0           0          1            1           0               0   \n",
       "1           0          1            0           1               0   \n",
       "2           0          1            0           0               0   \n",
       "3           0          1            0           0               1   \n",
       "4           0          1            1           0               0   \n",
       "\n",
       "   Group_ Women  \n",
       "0             0  \n",
       "1             0  \n",
       "2             1  \n",
       "3             0  \n",
       "4             0  \n",
       "\n",
       "[5 rows x 22 columns]"
      ]
     },
     "execution_count": 178,
     "metadata": {},
     "output_type": "execute_result"
    }
   ],
   "source": [
    "df.head()"
   ]
  },
  {
   "cell_type": "markdown",
   "id": "f0cb0c43",
   "metadata": {},
   "source": [
    "**Data type of Date column is datetime , so we have to change it into int**"
   ]
  },
  {
   "cell_type": "code",
   "execution_count": 179,
   "id": "a3b3df48",
   "metadata": {},
   "outputs": [],
   "source": [
    "from sklearn import ensemble\n",
    "from sklearn import preprocessing"
   ]
  },
  {
   "cell_type": "code",
   "execution_count": 182,
   "id": "55d01997",
   "metadata": {},
   "outputs": [],
   "source": [
    "#Label encoder to convert categorical value into int\n",
    "leModel = preprocessing.LabelEncoder()\n",
    "df['Date']= leModel.fit_transform(df['Date'])\n",
    "leModel = preprocessing.LabelEncoder()"
   ]
  },
  {
   "cell_type": "code",
   "execution_count": 183,
   "id": "f9f33dd4",
   "metadata": {
    "scrolled": true
   },
   "outputs": [
    {
     "data": {
      "text/plain": [
       "Date                int64\n",
       "Unit                int64\n",
       "Sales               int64\n",
       "Year                int64\n",
       "Month               int64\n",
       "Week               UInt32\n",
       "Quarter             int64\n",
       "Day                 int64\n",
       "Time_ Afternoon     uint8\n",
       "Time_ Evening       uint8\n",
       "Time_ Morning       uint8\n",
       "State_ NSW          uint8\n",
       "State_ NT           uint8\n",
       "State_ QLD          uint8\n",
       "State_ SA           uint8\n",
       "State_ TAS          uint8\n",
       "State_ VIC          uint8\n",
       "State_ WA           uint8\n",
       "Group_ Kids         uint8\n",
       "Group_ Men          uint8\n",
       "Group_ Seniors      uint8\n",
       "Group_ Women        uint8\n",
       "dtype: object"
      ]
     },
     "execution_count": 183,
     "metadata": {},
     "output_type": "execute_result"
    }
   ],
   "source": [
    "#veiw data type\n",
    "df.dtypes"
   ]
  },
  {
   "cell_type": "markdown",
   "id": "b016d8e1",
   "metadata": {},
   "source": [
    "# Normalization:"
   ]
  },
  {
   "cell_type": "markdown",
   "id": "727d805f",
   "metadata": {},
   "source": [
    "Machine Learning algorithms use feature scaling to improve the performance, some of the scaling techniques are: normalization and standardization."
   ]
  },
  {
   "cell_type": "markdown",
   "id": "d8b5970d",
   "metadata": {},
   "source": [
    "**MinMax Scaler**"
   ]
  },
  {
   "cell_type": "markdown",
   "id": "97d0ff20",
   "metadata": {},
   "source": [
    "There is another way of data scaling, where the minimum of feature is made equal to zero and the maximum of feature equal to one. MinMax Scaler shrinks the data within the given range, usually of 0 to 1. It transforms data by scaling features to a given range. It scales the values to a specific value range without changing the shape of the original distribution."
   ]
  },
  {
   "cell_type": "code",
   "execution_count": 185,
   "id": "6ad12392",
   "metadata": {},
   "outputs": [
    {
     "name": "stdout",
     "output_type": "stream",
     "text": [
      "[[0.         0.0952381  0.0952381  ... 0.         0.         0.        ]\n",
      " [0.         0.0952381  0.0952381  ... 1.         0.         0.        ]\n",
      " [0.         0.03174603 0.03174603 ... 0.         0.         1.        ]\n",
      " ...\n",
      " [1.         0.20634921 0.20634921 ... 1.         0.         0.        ]\n",
      " [1.         0.14285714 0.14285714 ... 0.         0.         1.        ]\n",
      " [1.         0.17460317 0.17460317 ... 0.         1.         0.        ]]\n"
     ]
    }
   ],
   "source": [
    "#Normalization \n",
    "scaler = MinMaxScaler()\n",
    "scaler.fit(df)\n",
    "normalized_data = scaler.transform(df)\n",
    "print(normalized_data)"
   ]
  },
  {
   "cell_type": "code",
   "execution_count": 186,
   "id": "ebb94bc4",
   "metadata": {},
   "outputs": [
    {
     "data": {
      "text/plain": [
       "array([[0.        , 0.0952381 , 0.0952381 , ..., 0.        , 0.        ,\n",
       "        0.        ],\n",
       "       [0.        , 0.0952381 , 0.0952381 , ..., 1.        , 0.        ,\n",
       "        0.        ],\n",
       "       [0.        , 0.03174603, 0.03174603, ..., 0.        , 0.        ,\n",
       "        1.        ],\n",
       "       ...,\n",
       "       [1.        , 0.20634921, 0.20634921, ..., 1.        , 0.        ,\n",
       "        0.        ],\n",
       "       [1.        , 0.14285714, 0.14285714, ..., 0.        , 0.        ,\n",
       "        1.        ],\n",
       "       [1.        , 0.17460317, 0.17460317, ..., 0.        , 1.        ,\n",
       "        0.        ]])"
      ]
     },
     "execution_count": 186,
     "metadata": {},
     "output_type": "execute_result"
    }
   ],
   "source": [
    "normalized_data"
   ]
  },
  {
   "cell_type": "markdown",
   "id": "8bff720e",
   "metadata": {},
   "source": [
    "**Mean and Standard Deviation**"
   ]
  },
  {
   "cell_type": "code",
   "execution_count": 187,
   "id": "7cb5e985",
   "metadata": {},
   "outputs": [
    {
     "name": "stdout",
     "output_type": "stream",
     "text": [
      "0.25021317600682685\n",
      "0.38482481895715737\n"
     ]
    }
   ],
   "source": [
    "#Mean and standard deviation\n",
    "print(np.mean(normalized_data))\n",
    "print(np.std(normalized_data))"
   ]
  },
  {
   "cell_type": "markdown",
   "id": "fe5efeac",
   "metadata": {},
   "source": [
    "**Now Data is ready for Analysis and Visualization**"
   ]
  },
  {
   "cell_type": "markdown",
   "id": "73cd8385",
   "metadata": {},
   "source": [
    "**Splitting data into Groups**"
   ]
  },
  {
   "cell_type": "markdown",
   "id": "7a53a173",
   "metadata": {},
   "source": [
    "Splitting is a process in which we split data into a group by applying some conditions on datasets. In order to split the data, we apply certain conditions on datasets. In order to split the data, we use groupby() function this function is used to split the data into groups based on some criteria."
   ]
  },
  {
   "cell_type": "markdown",
   "id": "18a6b374",
   "metadata": {},
   "source": [
    "**Here, we can apply a group on multiple columns and calculate a sum over each combination group.**"
   ]
  },
  {
   "cell_type": "code",
   "execution_count": 188,
   "id": "371b8e6d",
   "metadata": {},
   "outputs": [
    {
     "name": "stdout",
     "output_type": "stream",
     "text": [
      "              Date    Year  Month   Week  Quarter   Day  Time_ Afternoon  \\\n",
      "Sales  Unit                                                                \n",
      "5000   2      5626  262600   1430   6024      520  1856               44   \n",
      "7500   3      7760  484800   2547  10732      960  3590               84   \n",
      "10000  4      7136  424200   2236   9444      840  3266               71   \n",
      "12500  5     14834  668620   3639  15388     1324  5295              108   \n",
      "15000  6     16369  747400   4063  17176     1480  5849              132   \n",
      "...            ...     ...    ...    ...      ...   ...              ...   \n",
      "152500 61      664   18180    108    457       36   133                3   \n",
      "155000 62      758   20200    120    511       40   168                6   \n",
      "157500 63      942   26260    156    657       52   175                6   \n",
      "160000 64      972   26260    156    662       52   205                1   \n",
      "162500 65      856   22220    132    565       44   207                4   \n",
      "\n",
      "             Time_ Evening  Time_ Morning  State_ NSW  State_ NT  State_ QLD  \\\n",
      "Sales  Unit                                                                    \n",
      "5000   2                35             51           0         45           0   \n",
      "7500   3                74             82           0         68          29   \n",
      "10000  4                71             68           0         49          26   \n",
      "12500  5               117            106           0         99          48   \n",
      "15000  6               127            111           0        108          41   \n",
      "...                    ...            ...         ...        ...         ...   \n",
      "152500 61                2              4           0          0           0   \n",
      "155000 62                2              2           0          0           0   \n",
      "157500 63                2              5           0          0           0   \n",
      "160000 64                5              7           0          0           0   \n",
      "162500 65                6              1           0          0           0   \n",
      "\n",
      "             State_ SA  State_ TAS  State_ VIC  State_ WA  Group_ Kids  \\\n",
      "Sales  Unit                                                              \n",
      "5000   2             0          37           0         48           22   \n",
      "7500   3             0          73           0         70           56   \n",
      "10000  4             0          64           0         71           52   \n",
      "12500  5             0          83           0        101           91   \n",
      "15000  6             0         104           0        117           89   \n",
      "...                ...         ...         ...        ...          ...   \n",
      "152500 61            0           0           9          0            1   \n",
      "155000 62            0           0          10          0            3   \n",
      "157500 63            0           0          13          0            5   \n",
      "160000 64            0           0          13          0            0   \n",
      "162500 65            0           0          11          0            2   \n",
      "\n",
      "             Group_ Men  Group_ Seniors  Group_ Women  \n",
      "Sales  Unit                                            \n",
      "5000   2             33              42            33  \n",
      "7500   3             45              64            75  \n",
      "10000  4             62              41            55  \n",
      "12500  5             71              91            78  \n",
      "15000  6            105              76           100  \n",
      "...                 ...             ...           ...  \n",
      "152500 61             5               1             2  \n",
      "155000 62             1               3             3  \n",
      "157500 63             1               3             4  \n",
      "160000 64             6               3             4  \n",
      "162500 65             0               5             4  \n",
      "\n",
      "[64 rows x 20 columns]\n"
     ]
    }
   ],
   "source": [
    "#Group to columns sales and unit\n",
    "df.groupby(['Sales', 'Unit'])\n",
    " \n",
    "print(df.groupby(['Sales', 'Unit']).sum())"
   ]
  },
  {
   "cell_type": "code",
   "execution_count": 189,
   "id": "c725e074",
   "metadata": {},
   "outputs": [
    {
     "name": "stdout",
     "output_type": "stream",
     "text": [
      "              Date  Unit  Month   Week  Quarter   Day  Time_ Afternoon  \\\n",
      "Sales  Year                                                              \n",
      "5000   2020   5626   260   1430   6024      520  1856               44   \n",
      "7500   2020   7760   720   2547  10732      960  3590               84   \n",
      "10000  2020   7136   840   2236   9444      840  3266               71   \n",
      "12500  2020  14834  1655   3639  15388     1324  5295              108   \n",
      "15000  2020  16369  2220   4063  17176     1480  5849              132   \n",
      "...            ...   ...    ...    ...      ...   ...              ...   \n",
      "152500 2020    664   549    108    457       36   133                3   \n",
      "155000 2020    758   620    120    511       40   168                6   \n",
      "157500 2020    942   819    156    657       52   175                6   \n",
      "160000 2020    972   832    156    662       52   205                1   \n",
      "162500 2020    856   715    132    565       44   207                4   \n",
      "\n",
      "             Time_ Evening  Time_ Morning  State_ NSW  State_ NT  State_ QLD  \\\n",
      "Sales  Year                                                                    \n",
      "5000   2020             35             51           0         45           0   \n",
      "7500   2020             74             82           0         68          29   \n",
      "10000  2020             71             68           0         49          26   \n",
      "12500  2020            117            106           0         99          48   \n",
      "15000  2020            127            111           0        108          41   \n",
      "...                    ...            ...         ...        ...         ...   \n",
      "152500 2020              2              4           0          0           0   \n",
      "155000 2020              2              2           0          0           0   \n",
      "157500 2020              2              5           0          0           0   \n",
      "160000 2020              5              7           0          0           0   \n",
      "162500 2020              6              1           0          0           0   \n",
      "\n",
      "             State_ SA  State_ TAS  State_ VIC  State_ WA  Group_ Kids  \\\n",
      "Sales  Year                                                              \n",
      "5000   2020          0          37           0         48           22   \n",
      "7500   2020          0          73           0         70           56   \n",
      "10000  2020          0          64           0         71           52   \n",
      "12500  2020          0          83           0        101           91   \n",
      "15000  2020          0         104           0        117           89   \n",
      "...                ...         ...         ...        ...          ...   \n",
      "152500 2020          0           0           9          0            1   \n",
      "155000 2020          0           0          10          0            3   \n",
      "157500 2020          0           0          13          0            5   \n",
      "160000 2020          0           0          13          0            0   \n",
      "162500 2020          0           0          11          0            2   \n",
      "\n",
      "             Group_ Men  Group_ Seniors  Group_ Women  \n",
      "Sales  Year                                            \n",
      "5000   2020          33              42            33  \n",
      "7500   2020          45              64            75  \n",
      "10000  2020          62              41            55  \n",
      "12500  2020          71              91            78  \n",
      "15000  2020         105              76           100  \n",
      "...                 ...             ...           ...  \n",
      "152500 2020           5               1             2  \n",
      "155000 2020           1               3             3  \n",
      "157500 2020           1               3             4  \n",
      "160000 2020           6               3             4  \n",
      "162500 2020           0               5             4  \n",
      "\n",
      "[64 rows x 20 columns]\n"
     ]
    }
   ],
   "source": [
    "#Group to sales and year\n",
    "df.groupby(['Sales', 'Year'])\n",
    " \n",
    "print(df.groupby(['Sales', 'Year']).sum())"
   ]
  },
  {
   "cell_type": "markdown",
   "id": "9ab73874",
   "metadata": {},
   "source": [
    "**Aggregation**"
   ]
  },
  {
   "cell_type": "markdown",
   "id": "d45e8f2a",
   "metadata": {},
   "source": [
    "Aggregation is a process in which we compute a summary statistic about each group."
   ]
  },
  {
   "cell_type": "markdown",
   "id": "96ba62c2",
   "metadata": {},
   "source": [
    "**We can apply a multiple functions at once by passing a list or dictionary of functions to do aggregation with, outputting a DataFrame.** "
   ]
  },
  {
   "cell_type": "code",
   "execution_count": 190,
   "id": "ff94a9a6",
   "metadata": {},
   "outputs": [
    {
     "data": {
      "text/html": [
       "<div>\n",
       "<style scoped>\n",
       "    .dataframe tbody tr th:only-of-type {\n",
       "        vertical-align: middle;\n",
       "    }\n",
       "\n",
       "    .dataframe tbody tr th {\n",
       "        vertical-align: top;\n",
       "    }\n",
       "\n",
       "    .dataframe thead th {\n",
       "        text-align: right;\n",
       "    }\n",
       "</style>\n",
       "<table border=\"1\" class=\"dataframe\">\n",
       "  <thead>\n",
       "    <tr style=\"text-align: right;\">\n",
       "      <th></th>\n",
       "      <th>sum</th>\n",
       "      <th>mean</th>\n",
       "      <th>std</th>\n",
       "    </tr>\n",
       "    <tr>\n",
       "      <th>Sales</th>\n",
       "      <th></th>\n",
       "      <th></th>\n",
       "      <th></th>\n",
       "    </tr>\n",
       "  </thead>\n",
       "  <tbody>\n",
       "    <tr>\n",
       "      <th>5000</th>\n",
       "      <td>260</td>\n",
       "      <td>2.0</td>\n",
       "      <td>0.0</td>\n",
       "    </tr>\n",
       "    <tr>\n",
       "      <th>7500</th>\n",
       "      <td>720</td>\n",
       "      <td>3.0</td>\n",
       "      <td>0.0</td>\n",
       "    </tr>\n",
       "    <tr>\n",
       "      <th>10000</th>\n",
       "      <td>840</td>\n",
       "      <td>4.0</td>\n",
       "      <td>0.0</td>\n",
       "    </tr>\n",
       "    <tr>\n",
       "      <th>12500</th>\n",
       "      <td>1655</td>\n",
       "      <td>5.0</td>\n",
       "      <td>0.0</td>\n",
       "    </tr>\n",
       "    <tr>\n",
       "      <th>15000</th>\n",
       "      <td>2220</td>\n",
       "      <td>6.0</td>\n",
       "      <td>0.0</td>\n",
       "    </tr>\n",
       "    <tr>\n",
       "      <th>...</th>\n",
       "      <td>...</td>\n",
       "      <td>...</td>\n",
       "      <td>...</td>\n",
       "    </tr>\n",
       "    <tr>\n",
       "      <th>152500</th>\n",
       "      <td>549</td>\n",
       "      <td>61.0</td>\n",
       "      <td>0.0</td>\n",
       "    </tr>\n",
       "    <tr>\n",
       "      <th>155000</th>\n",
       "      <td>620</td>\n",
       "      <td>62.0</td>\n",
       "      <td>0.0</td>\n",
       "    </tr>\n",
       "    <tr>\n",
       "      <th>157500</th>\n",
       "      <td>819</td>\n",
       "      <td>63.0</td>\n",
       "      <td>0.0</td>\n",
       "    </tr>\n",
       "    <tr>\n",
       "      <th>160000</th>\n",
       "      <td>832</td>\n",
       "      <td>64.0</td>\n",
       "      <td>0.0</td>\n",
       "    </tr>\n",
       "    <tr>\n",
       "      <th>162500</th>\n",
       "      <td>715</td>\n",
       "      <td>65.0</td>\n",
       "      <td>0.0</td>\n",
       "    </tr>\n",
       "  </tbody>\n",
       "</table>\n",
       "<p>64 rows × 3 columns</p>\n",
       "</div>"
      ],
      "text/plain": [
       "         sum  mean  std\n",
       "Sales                  \n",
       "5000     260   2.0  0.0\n",
       "7500     720   3.0  0.0\n",
       "10000    840   4.0  0.0\n",
       "12500   1655   5.0  0.0\n",
       "15000   2220   6.0  0.0\n",
       "...      ...   ...  ...\n",
       "152500   549  61.0  0.0\n",
       "155000   620  62.0  0.0\n",
       "157500   819  63.0  0.0\n",
       "160000   832  64.0  0.0\n",
       "162500   715  65.0  0.0\n",
       "\n",
       "[64 rows x 3 columns]"
      ]
     },
     "execution_count": 190,
     "metadata": {},
     "output_type": "execute_result"
    }
   ],
   "source": [
    "#Group sales with sum,mean std of Unit\n",
    "grp = df.groupby('Sales')\n",
    " \n",
    "grp['Unit'].agg([np.sum, np.mean, np.std])"
   ]
  },
  {
   "cell_type": "markdown",
   "id": "e3b0e236",
   "metadata": {},
   "source": [
    "**Filtration:**"
   ]
  },
  {
   "cell_type": "markdown",
   "id": "c2915432",
   "metadata": {},
   "source": [
    "Filtration is a process in which we discard some groups, according to a group-wise computation that evaluates True or False."
   ]
  },
  {
   "cell_type": "markdown",
   "id": "824d05b4",
   "metadata": {},
   "source": [
    "**Now we filter data that to return the Unit which comes more than 2.**"
   ]
  },
  {
   "cell_type": "code",
   "execution_count": 191,
   "id": "207f36ed",
   "metadata": {},
   "outputs": [
    {
     "data": {
      "text/html": [
       "<div>\n",
       "<style scoped>\n",
       "    .dataframe tbody tr th:only-of-type {\n",
       "        vertical-align: middle;\n",
       "    }\n",
       "\n",
       "    .dataframe tbody tr th {\n",
       "        vertical-align: top;\n",
       "    }\n",
       "\n",
       "    .dataframe thead th {\n",
       "        text-align: right;\n",
       "    }\n",
       "</style>\n",
       "<table border=\"1\" class=\"dataframe\">\n",
       "  <thead>\n",
       "    <tr style=\"text-align: right;\">\n",
       "      <th></th>\n",
       "      <th>Date</th>\n",
       "      <th>Unit</th>\n",
       "      <th>Sales</th>\n",
       "      <th>Year</th>\n",
       "      <th>Month</th>\n",
       "      <th>Week</th>\n",
       "      <th>Quarter</th>\n",
       "      <th>Day</th>\n",
       "      <th>Time_ Afternoon</th>\n",
       "      <th>Time_ Evening</th>\n",
       "      <th>...</th>\n",
       "      <th>State_ NT</th>\n",
       "      <th>State_ QLD</th>\n",
       "      <th>State_ SA</th>\n",
       "      <th>State_ TAS</th>\n",
       "      <th>State_ VIC</th>\n",
       "      <th>State_ WA</th>\n",
       "      <th>Group_ Kids</th>\n",
       "      <th>Group_ Men</th>\n",
       "      <th>Group_ Seniors</th>\n",
       "      <th>Group_ Women</th>\n",
       "    </tr>\n",
       "  </thead>\n",
       "  <tbody>\n",
       "    <tr>\n",
       "      <th>0</th>\n",
       "      <td>0</td>\n",
       "      <td>8</td>\n",
       "      <td>20000</td>\n",
       "      <td>2020</td>\n",
       "      <td>10</td>\n",
       "      <td>40</td>\n",
       "      <td>4</td>\n",
       "      <td>1</td>\n",
       "      <td>0</td>\n",
       "      <td>0</td>\n",
       "      <td>...</td>\n",
       "      <td>0</td>\n",
       "      <td>0</td>\n",
       "      <td>0</td>\n",
       "      <td>0</td>\n",
       "      <td>0</td>\n",
       "      <td>1</td>\n",
       "      <td>1</td>\n",
       "      <td>0</td>\n",
       "      <td>0</td>\n",
       "      <td>0</td>\n",
       "    </tr>\n",
       "    <tr>\n",
       "      <th>1</th>\n",
       "      <td>0</td>\n",
       "      <td>8</td>\n",
       "      <td>20000</td>\n",
       "      <td>2020</td>\n",
       "      <td>10</td>\n",
       "      <td>40</td>\n",
       "      <td>4</td>\n",
       "      <td>1</td>\n",
       "      <td>0</td>\n",
       "      <td>0</td>\n",
       "      <td>...</td>\n",
       "      <td>0</td>\n",
       "      <td>0</td>\n",
       "      <td>0</td>\n",
       "      <td>0</td>\n",
       "      <td>0</td>\n",
       "      <td>1</td>\n",
       "      <td>0</td>\n",
       "      <td>1</td>\n",
       "      <td>0</td>\n",
       "      <td>0</td>\n",
       "    </tr>\n",
       "    <tr>\n",
       "      <th>2</th>\n",
       "      <td>0</td>\n",
       "      <td>4</td>\n",
       "      <td>10000</td>\n",
       "      <td>2020</td>\n",
       "      <td>10</td>\n",
       "      <td>40</td>\n",
       "      <td>4</td>\n",
       "      <td>1</td>\n",
       "      <td>0</td>\n",
       "      <td>0</td>\n",
       "      <td>...</td>\n",
       "      <td>0</td>\n",
       "      <td>0</td>\n",
       "      <td>0</td>\n",
       "      <td>0</td>\n",
       "      <td>0</td>\n",
       "      <td>1</td>\n",
       "      <td>0</td>\n",
       "      <td>0</td>\n",
       "      <td>0</td>\n",
       "      <td>1</td>\n",
       "    </tr>\n",
       "    <tr>\n",
       "      <th>3</th>\n",
       "      <td>0</td>\n",
       "      <td>15</td>\n",
       "      <td>37500</td>\n",
       "      <td>2020</td>\n",
       "      <td>10</td>\n",
       "      <td>40</td>\n",
       "      <td>4</td>\n",
       "      <td>1</td>\n",
       "      <td>0</td>\n",
       "      <td>0</td>\n",
       "      <td>...</td>\n",
       "      <td>0</td>\n",
       "      <td>0</td>\n",
       "      <td>0</td>\n",
       "      <td>0</td>\n",
       "      <td>0</td>\n",
       "      <td>1</td>\n",
       "      <td>0</td>\n",
       "      <td>0</td>\n",
       "      <td>1</td>\n",
       "      <td>0</td>\n",
       "    </tr>\n",
       "    <tr>\n",
       "      <th>4</th>\n",
       "      <td>0</td>\n",
       "      <td>3</td>\n",
       "      <td>7500</td>\n",
       "      <td>2020</td>\n",
       "      <td>10</td>\n",
       "      <td>40</td>\n",
       "      <td>4</td>\n",
       "      <td>1</td>\n",
       "      <td>1</td>\n",
       "      <td>0</td>\n",
       "      <td>...</td>\n",
       "      <td>0</td>\n",
       "      <td>0</td>\n",
       "      <td>0</td>\n",
       "      <td>0</td>\n",
       "      <td>0</td>\n",
       "      <td>1</td>\n",
       "      <td>1</td>\n",
       "      <td>0</td>\n",
       "      <td>0</td>\n",
       "      <td>0</td>\n",
       "    </tr>\n",
       "    <tr>\n",
       "      <th>...</th>\n",
       "      <td>...</td>\n",
       "      <td>...</td>\n",
       "      <td>...</td>\n",
       "      <td>...</td>\n",
       "      <td>...</td>\n",
       "      <td>...</td>\n",
       "      <td>...</td>\n",
       "      <td>...</td>\n",
       "      <td>...</td>\n",
       "      <td>...</td>\n",
       "      <td>...</td>\n",
       "      <td>...</td>\n",
       "      <td>...</td>\n",
       "      <td>...</td>\n",
       "      <td>...</td>\n",
       "      <td>...</td>\n",
       "      <td>...</td>\n",
       "      <td>...</td>\n",
       "      <td>...</td>\n",
       "      <td>...</td>\n",
       "      <td>...</td>\n",
       "    </tr>\n",
       "    <tr>\n",
       "      <th>7555</th>\n",
       "      <td>89</td>\n",
       "      <td>14</td>\n",
       "      <td>35000</td>\n",
       "      <td>2020</td>\n",
       "      <td>12</td>\n",
       "      <td>53</td>\n",
       "      <td>4</td>\n",
       "      <td>30</td>\n",
       "      <td>1</td>\n",
       "      <td>0</td>\n",
       "      <td>...</td>\n",
       "      <td>0</td>\n",
       "      <td>0</td>\n",
       "      <td>0</td>\n",
       "      <td>1</td>\n",
       "      <td>0</td>\n",
       "      <td>0</td>\n",
       "      <td>0</td>\n",
       "      <td>0</td>\n",
       "      <td>1</td>\n",
       "      <td>0</td>\n",
       "    </tr>\n",
       "    <tr>\n",
       "      <th>7556</th>\n",
       "      <td>89</td>\n",
       "      <td>15</td>\n",
       "      <td>37500</td>\n",
       "      <td>2020</td>\n",
       "      <td>12</td>\n",
       "      <td>53</td>\n",
       "      <td>4</td>\n",
       "      <td>30</td>\n",
       "      <td>0</td>\n",
       "      <td>1</td>\n",
       "      <td>...</td>\n",
       "      <td>0</td>\n",
       "      <td>0</td>\n",
       "      <td>0</td>\n",
       "      <td>1</td>\n",
       "      <td>0</td>\n",
       "      <td>0</td>\n",
       "      <td>1</td>\n",
       "      <td>0</td>\n",
       "      <td>0</td>\n",
       "      <td>0</td>\n",
       "    </tr>\n",
       "    <tr>\n",
       "      <th>7557</th>\n",
       "      <td>89</td>\n",
       "      <td>15</td>\n",
       "      <td>37500</td>\n",
       "      <td>2020</td>\n",
       "      <td>12</td>\n",
       "      <td>53</td>\n",
       "      <td>4</td>\n",
       "      <td>30</td>\n",
       "      <td>0</td>\n",
       "      <td>1</td>\n",
       "      <td>...</td>\n",
       "      <td>0</td>\n",
       "      <td>0</td>\n",
       "      <td>0</td>\n",
       "      <td>1</td>\n",
       "      <td>0</td>\n",
       "      <td>0</td>\n",
       "      <td>0</td>\n",
       "      <td>1</td>\n",
       "      <td>0</td>\n",
       "      <td>0</td>\n",
       "    </tr>\n",
       "    <tr>\n",
       "      <th>7558</th>\n",
       "      <td>89</td>\n",
       "      <td>11</td>\n",
       "      <td>27500</td>\n",
       "      <td>2020</td>\n",
       "      <td>12</td>\n",
       "      <td>53</td>\n",
       "      <td>4</td>\n",
       "      <td>30</td>\n",
       "      <td>0</td>\n",
       "      <td>1</td>\n",
       "      <td>...</td>\n",
       "      <td>0</td>\n",
       "      <td>0</td>\n",
       "      <td>0</td>\n",
       "      <td>1</td>\n",
       "      <td>0</td>\n",
       "      <td>0</td>\n",
       "      <td>0</td>\n",
       "      <td>0</td>\n",
       "      <td>0</td>\n",
       "      <td>1</td>\n",
       "    </tr>\n",
       "    <tr>\n",
       "      <th>7559</th>\n",
       "      <td>89</td>\n",
       "      <td>13</td>\n",
       "      <td>32500</td>\n",
       "      <td>2020</td>\n",
       "      <td>12</td>\n",
       "      <td>53</td>\n",
       "      <td>4</td>\n",
       "      <td>30</td>\n",
       "      <td>0</td>\n",
       "      <td>1</td>\n",
       "      <td>...</td>\n",
       "      <td>0</td>\n",
       "      <td>0</td>\n",
       "      <td>0</td>\n",
       "      <td>1</td>\n",
       "      <td>0</td>\n",
       "      <td>0</td>\n",
       "      <td>0</td>\n",
       "      <td>0</td>\n",
       "      <td>1</td>\n",
       "      <td>0</td>\n",
       "    </tr>\n",
       "  </tbody>\n",
       "</table>\n",
       "<p>7560 rows × 22 columns</p>\n",
       "</div>"
      ],
      "text/plain": [
       "      Date  Unit  Sales  Year  Month  Week  Quarter  Day  Time_ Afternoon  \\\n",
       "0        0     8  20000  2020     10    40        4    1                0   \n",
       "1        0     8  20000  2020     10    40        4    1                0   \n",
       "2        0     4  10000  2020     10    40        4    1                0   \n",
       "3        0    15  37500  2020     10    40        4    1                0   \n",
       "4        0     3   7500  2020     10    40        4    1                1   \n",
       "...    ...   ...    ...   ...    ...   ...      ...  ...              ...   \n",
       "7555    89    14  35000  2020     12    53        4   30                1   \n",
       "7556    89    15  37500  2020     12    53        4   30                0   \n",
       "7557    89    15  37500  2020     12    53        4   30                0   \n",
       "7558    89    11  27500  2020     12    53        4   30                0   \n",
       "7559    89    13  32500  2020     12    53        4   30                0   \n",
       "\n",
       "      Time_ Evening  ...  State_ NT  State_ QLD  State_ SA  State_ TAS  \\\n",
       "0                 0  ...          0           0          0           0   \n",
       "1                 0  ...          0           0          0           0   \n",
       "2                 0  ...          0           0          0           0   \n",
       "3                 0  ...          0           0          0           0   \n",
       "4                 0  ...          0           0          0           0   \n",
       "...             ...  ...        ...         ...        ...         ...   \n",
       "7555              0  ...          0           0          0           1   \n",
       "7556              1  ...          0           0          0           1   \n",
       "7557              1  ...          0           0          0           1   \n",
       "7558              1  ...          0           0          0           1   \n",
       "7559              1  ...          0           0          0           1   \n",
       "\n",
       "      State_ VIC  State_ WA  Group_ Kids  Group_ Men  Group_ Seniors  \\\n",
       "0              0          1            1           0               0   \n",
       "1              0          1            0           1               0   \n",
       "2              0          1            0           0               0   \n",
       "3              0          1            0           0               1   \n",
       "4              0          1            1           0               0   \n",
       "...          ...        ...          ...         ...             ...   \n",
       "7555           0          0            0           0               1   \n",
       "7556           0          0            1           0               0   \n",
       "7557           0          0            0           1               0   \n",
       "7558           0          0            0           0               0   \n",
       "7559           0          0            0           0               1   \n",
       "\n",
       "      Group_ Women  \n",
       "0                0  \n",
       "1                0  \n",
       "2                1  \n",
       "3                0  \n",
       "4                0  \n",
       "...            ...  \n",
       "7555             0  \n",
       "7556             0  \n",
       "7557             0  \n",
       "7558             1  \n",
       "7559             0  \n",
       "\n",
       "[7560 rows x 22 columns]"
      ]
     },
     "execution_count": 191,
     "metadata": {},
     "output_type": "execute_result"
    }
   ],
   "source": [
    "#Filter unit values \n",
    "grp = df.groupby('Unit')\n",
    "grp.filter(lambda x: len(x) >= 2)"
   ]
  },
  {
   "cell_type": "markdown",
   "id": "9caa6df0",
   "metadata": {},
   "source": [
    "# Data Analysis:"
   ]
  },
  {
   "cell_type": "markdown",
   "id": "8dc2996c",
   "metadata": {},
   "source": [
    "**Descriptive statistical analysis**"
   ]
  },
  {
   "cell_type": "code",
   "execution_count": 141,
   "id": "a8c97e4e",
   "metadata": {},
   "outputs": [],
   "source": [
    "#descriptive statistical analysis\n",
    "d = pd.DataFrame(df, columns = ['Sales', 'Unit']).describe()"
   ]
  },
  {
   "cell_type": "code",
   "execution_count": 192,
   "id": "51815e20",
   "metadata": {},
   "outputs": [
    {
     "name": "stdout",
     "output_type": "stream",
     "text": [
      "               Sales         Unit\n",
      "count    7560.000000  7560.000000\n",
      "mean    45013.558201    18.005423\n",
      "std     32253.506944    12.901403\n",
      "min      5000.000000     2.000000\n",
      "25%     20000.000000     8.000000\n",
      "50%     35000.000000    14.000000\n",
      "75%     65000.000000    26.000000\n",
      "max    162500.000000    65.000000\n"
     ]
    }
   ],
   "source": [
    "print(d)"
   ]
  },
  {
   "cell_type": "markdown",
   "id": "083c7d0c",
   "metadata": {},
   "source": [
    "**Visualization of descriptive statistical analysis for Sales and Unit**"
   ]
  },
  {
   "cell_type": "code",
   "execution_count": 193,
   "id": "bf2ee76c",
   "metadata": {},
   "outputs": [
    {
     "name": "stderr",
     "output_type": "stream",
     "text": [
      "C:\\Users\\Arsalan\\anaconda3\\lib\\site-packages\\seaborn\\_decorators.py:36: FutureWarning: Pass the following variable as a keyword arg: x. From version 0.12, the only valid positional argument will be `data`, and passing other arguments without an explicit keyword will result in an error or misinterpretation.\n",
      "  warnings.warn(\n"
     ]
    },
    {
     "data": {
      "image/png": "[encoded data removed]",
      "text/plain": [
       "<Figure size 432x288 with 1 Axes>"
      ]
     },
     "metadata": {},
     "output_type": "display_data"
    },
    {
     "name": "stderr",
     "output_type": "stream",
     "text": [
      "C:\\Users\\Arsalan\\anaconda3\\lib\\site-packages\\seaborn\\_decorators.py:36: FutureWarning: Pass the following variable as a keyword arg: x. From version 0.12, the only valid positional argument will be `data`, and passing other arguments without an explicit keyword will result in an error or misinterpretation.\n",
      "  warnings.warn(\n"
     ]
    },
    {
     "data": {
      "image/png": "[encoded data removed]",
      "text/plain": [
       "<Figure size 432x288 with 1 Axes>"
      ]
     },
     "metadata": {},
     "output_type": "display_data"
    }
   ],
   "source": [
    "#descriptive statistical analysis for Sales and Unit\n",
    "for i in d.describe().columns:\n",
    "  sns.boxplot(d[i].dropna())\n",
    "  plt.show()\n",
    "     "
   ]
  },
  {
   "cell_type": "markdown",
   "id": "3b3c0598",
   "metadata": {},
   "source": [
    "**Determine which group is generating the highest sales, and which group \n",
    "is generating the lowest sales.**"
   ]
  },
  {
   "cell_type": "code",
   "execution_count": 194,
   "id": "e9ebc6fb",
   "metadata": {},
   "outputs": [
    {
     "data": {
      "text/plain": [
       "Group\n",
       " Kids       AxesSubplot(0.125,0.125;0.775x0.755)\n",
       " Men        AxesSubplot(0.125,0.125;0.775x0.755)\n",
       " Seniors    AxesSubplot(0.125,0.125;0.775x0.755)\n",
       " Women      AxesSubplot(0.125,0.125;0.775x0.755)\n",
       "Name: Sales, dtype: object"
      ]
     },
     "execution_count": 194,
     "metadata": {},
     "output_type": "execute_result"
    },
    {
     "data": {
      "image/png": "[encoded data removed]",
      "text/plain": [
       "<Figure size 432x288 with 1 Axes>"
      ]
     },
     "metadata": {},
     "output_type": "display_data"
    }
   ],
   "source": [
    "#Highest and Lowest sales group-wise\n",
    "data.groupby('Group')['Sales'].plot(legend=True)"
   ]
  },
  {
   "cell_type": "markdown",
   "id": "0debaa69",
   "metadata": {},
   "source": [
    "**Determine which state is generating the highest sales, and which state is \n",
    "generating the lowest sales.**"
   ]
  },
  {
   "cell_type": "code",
   "execution_count": 195,
   "id": "d60e5c61",
   "metadata": {},
   "outputs": [
    {
     "data": {
      "text/plain": [
       "State\n",
       " NSW    AxesSubplot(0.125,0.125;0.775x0.755)\n",
       " NT     AxesSubplot(0.125,0.125;0.775x0.755)\n",
       " QLD    AxesSubplot(0.125,0.125;0.775x0.755)\n",
       " SA     AxesSubplot(0.125,0.125;0.775x0.755)\n",
       " TAS    AxesSubplot(0.125,0.125;0.775x0.755)\n",
       " VIC    AxesSubplot(0.125,0.125;0.775x0.755)\n",
       " WA     AxesSubplot(0.125,0.125;0.775x0.755)\n",
       "Name: Sales, dtype: object"
      ]
     },
     "execution_count": 195,
     "metadata": {},
     "output_type": "execute_result"
    },
    {
     "data": {
      "image/png": "[encoded data removed]",
      "text/plain": [
       "<Figure size 432x288 with 1 Axes>"
      ]
     },
     "metadata": {},
     "output_type": "display_data"
    }
   ],
   "source": [
    "#Highest and Lowest sales state-wise\n",
    "data.groupby('State')['Sales'].plot(legend=True)"
   ]
  },
  {
   "cell_type": "markdown",
   "id": "6e102056",
   "metadata": {},
   "source": [
    "**Generate weekly, monthly and quarterly reports for the analysis made**"
   ]
  },
  {
   "cell_type": "code",
   "execution_count": 196,
   "id": "2639363d",
   "metadata": {},
   "outputs": [
    {
     "data": {
      "text/plain": [
       "<AxesSubplot:xlabel='Sales'>"
      ]
     },
     "execution_count": 196,
     "metadata": {},
     "output_type": "execute_result"
    },
    {
     "data": {
      "image/png": "[encoded data removed]",
      "text/plain": [
       "<Figure size 432x288 with 1 Axes>"
      ]
     },
     "metadata": {},
     "output_type": "display_data"
    }
   ],
   "source": [
    "#Sales Weekly Report\n",
    "df.groupby(['Sales']).sum().plot(kind='line', y='Week')"
   ]
  },
  {
   "cell_type": "code",
   "execution_count": 197,
   "id": "2ea16828",
   "metadata": {},
   "outputs": [
    {
     "data": {
      "text/plain": [
       "<AxesSubplot:xlabel='Sales'>"
      ]
     },
     "execution_count": 197,
     "metadata": {},
     "output_type": "execute_result"
    },
    {
     "data": {
      "image/png": "[encoded data removed]",
      "text/plain": [
       "<Figure size 432x288 with 1 Axes>"
      ]
     },
     "metadata": {},
     "output_type": "display_data"
    }
   ],
   "source": [
    "#Sales Monthly report\n",
    "df.groupby(['Sales']).sum().plot(kind='line', y='Month')"
   ]
  },
  {
   "cell_type": "code",
   "execution_count": 198,
   "id": "71cb1852",
   "metadata": {},
   "outputs": [
    {
     "data": {
      "text/plain": [
       "<AxesSubplot:xlabel='Sales'>"
      ]
     },
     "execution_count": 198,
     "metadata": {},
     "output_type": "execute_result"
    },
    {
     "data": {
      "image/png": "[encoded data removed]",
      "text/plain": [
       "<Figure size 432x288 with 1 Axes>"
      ]
     },
     "metadata": {},
     "output_type": "display_data"
    }
   ],
   "source": [
    "#Sales Quarterly Report\n",
    "df.groupby(['Sales']).sum().plot(kind='line', y='Quarter')"
   ]
  },
  {
   "cell_type": "markdown",
   "id": "9dfe29aa",
   "metadata": {},
   "source": [
    "# Data Visualization:"
   ]
  },
  {
   "cell_type": "markdown",
   "id": "76f78633",
   "metadata": {},
   "source": [
    "**Dashboard for Head of S&M**"
   ]
  },
  {
   "cell_type": "code",
   "execution_count": 149,
   "id": "ad1d5671",
   "metadata": {},
   "outputs": [],
   "source": [
    "import seaborn as sns"
   ]
  },
  {
   "cell_type": "markdown",
   "id": "65da7790",
   "metadata": {},
   "source": [
    "1. State-wise sales analysis for different groups (kids, women, men, and seniors)\n",
    "2. Group-wise sales analysis (kids, women, men, and seniors) across different states\n",
    "3. Time-of-the-day analysis: during which time of the day are sales the highest, and during which time are sales the lowest?\n",
    "4. Monthly Sales chart\n",
    "5. Daily Sales Chart\n",
    "6. Quarterly Sales Chart"
   ]
  },
  {
   "cell_type": "code",
   "execution_count": 200,
   "id": "18ecd505",
   "metadata": {},
   "outputs": [
    {
     "data": {
      "text/plain": [
       "<AxesSubplot:xlabel='Sales', ylabel='Quarter'>"
      ]
     },
     "execution_count": 200,
     "metadata": {},
     "output_type": "execute_result"
    },
    {
     "data": {
      "image/png": "[encoded data removed]",
      "text/plain": [
       "<Figure size 1008x720 with 6 Axes>"
      ]
     },
     "metadata": {},
     "output_type": "display_data"
    }
   ],
   "source": [
    "plt.figure(figsize=(14,10))\n",
    "sns.set_style(style='whitegrid')\n",
    "plt.subplot(2,3,1)\n",
    "sns.pointplot(data=data, x=\"State\", y=\"Sales\", hue=\"Group\")\n",
    "plt.subplot(2,3,2)\n",
    "sns.pointplot(data=data, x=\"Group\", y=\"Sales\", hue=\"State\")\n",
    "plt.subplot(2,3,3)\n",
    "sns.pointplot(data=data, x=\"Time\", y=\"Sales\", hue=\"Day\")\n",
    "plt.subplot(2,3,4)\n",
    "sns.lineplot(data=data, x=\"Sales\", y=\"Month\")\n",
    "plt.subplot(2,3,5)\n",
    "sns.lineplot(data=data, x=\"Sales\", y=\"Day\")\n",
    "plt.subplot(2,3,6)\n",
    "sns.lineplot(data=data, x=\"Sales\", y=\"Quarter\")\n"
   ]
  },
  {
   "cell_type": "code",
   "execution_count": null,
   "id": "41372f99",
   "metadata": {},
   "outputs": [],
   "source": []
  }
 ],
 "metadata": {
  "kernelspec": {
   "display_name": "Python 3 (ipykernel)",
   "language": "python",
   "name": "python3"
  },
  "language_info": {
   "codemirror_mode": {
    "name": "ipython",
    "version": 3
   },
   "file_extension": ".py",
   "mimetype": "text/x-python",
   "name": "python",
   "nbconvert_exporter": "python",
   "pygments_lexer": "ipython3",
   "version": "3.9.7"
  }
 },
 "nbformat": 4,
 "nbformat_minor": 5
}
